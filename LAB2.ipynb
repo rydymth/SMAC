{
 "cells": [
  {
   "cell_type": "code",
   "execution_count": 49,
   "id": "835e838a-133e-491a-9edc-15e8afaaeaa4",
   "metadata": {},
   "outputs": [],
   "source": [
    "def helloWorld(abc):\n",
    "    print(abc)"
   ]
  },
  {
   "cell_type": "markdown",
   "id": "171b4e12-351a-4d34-b7ce-33bb498402b6",
   "metadata": {},
   "source": [
    "import sys\n",
    "def printf(format, *args):\n",
    "    sys.stdout.write(format % args)"
   ]
  },
  {
   "cell_type": "code",
   "execution_count": 51,
   "id": "bf71340f-ce3a-4bc3-b6fc-30630b00ecbf",
   "metadata": {},
   "outputs": [],
   "source": [
    "def printftup(a):\n",
    "    for i in a:\n",
    "        print(i, end = \"  \")"
   ]
  },
  {
   "cell_type": "markdown",
   "id": "1f83ef82-b030-4a04-b9c4-5463daa7f44d",
   "metadata": {},
   "source": [
    "1. Write a Python program to create a tuple.\n",
    "2. Write a Python program to create a tuple with different data types.\n",
    "3. Write a Python program to create a tuple with numbers and print one item.\n",
    "4. Write a Python program to unpack a tuple in several variables."
   ]
  },
  {
   "cell_type": "code",
   "execution_count": 52,
   "id": "028ee08c-2400-474d-8089-e751414c358f",
   "metadata": {},
   "outputs": [
    {
     "name": "stdout",
     "output_type": "stream",
     "text": [
      "1  2  3  rudy  ISM  "
     ]
    }
   ],
   "source": [
    "a = ( 1, 2, 3, \"rudy\", \"ISM\" )\n",
    "printftup(a)"
   ]
  },
  {
   "cell_type": "code",
   "execution_count": 67,
   "id": "dddd0342-4614-4a65-8886-5b7f043c1396",
   "metadata": {},
   "outputs": [
    {
     "name": "stdout",
     "output_type": "stream",
     "text": [
      "1\n",
      "2\n",
      "3\n",
      "rudy\n",
      "ISM\n"
     ]
    }
   ],
   "source": [
    "b = []\n",
    "for i in a:\n",
    "    b.append(i)\n",
    "\n",
    "for i in range(0, len(b)):\n",
    "    print(b[i])"
   ]
  },
  {
   "cell_type": "markdown",
   "id": "d05ef0a1-579e-4838-9a1d-6ac6449ea249",
   "metadata": {},
   "source": [
    "5. Write a Python program to add an item in a tuple.\n",
    "6. Write a Python program to convert a tuple to a string.\n",
    "7. Write a Python program to get the 4th element and 4th element from last of a tuple.\n",
    "8. Write a Python program to create the colon of a tuple.\n",
    "9. Write a Python program to find the repeated items of a tuple.\n",
    "10. Write a Python program to check whether an element exists within a tuple."
   ]
  },
  {
   "cell_type": "code",
   "execution_count": 64,
   "id": "9e3cea03-6ad3-4709-a1c6-0f6621c6ab7a",
   "metadata": {},
   "outputs": [],
   "source": [
    "# Concat\n",
    "def concatT(a, b):\n",
    "    print(a + b)\n",
    "def addT(a, b):\n",
    "    res = []\n",
    "    if len(a) != len(b):\n",
    "        print(\"Make lengths same\")\n",
    "    for i in range(len(a)):\n",
    "        res.append(a[i] + b[i])\n",
    "    print(tuple(res))"
   ]
  },
  {
   "cell_type": "code",
   "execution_count": 65,
   "id": "e8897a61-613f-45dc-b048-dbf6dc106e45",
   "metadata": {},
   "outputs": [
    {
     "name": "stdout",
     "output_type": "stream",
     "text": [
      "(5, 7, 9)\n"
     ]
    }
   ],
   "source": [
    "addT((1,2,3), (4,5,6))"
   ]
  },
  {
   "cell_type": "code",
   "execution_count": 66,
   "id": "a470a8ad-ad8f-4849-b083-7cb225d063da",
   "metadata": {},
   "outputs": [
    {
     "name": "stdout",
     "output_type": "stream",
     "text": [
      "(1, 2, 3, 4, 5, 6)\n"
     ]
    }
   ],
   "source": [
    "concatT((1,2,3), (4,5,6))"
   ]
  },
  {
   "cell_type": "code",
   "execution_count": 69,
   "id": "5e1df78d-0132-45ac-96f6-a3c0dbfca91a",
   "metadata": {},
   "outputs": [
    {
     "data": {
      "text/plain": [
       "'123'"
      ]
     },
     "execution_count": 69,
     "metadata": {},
     "output_type": "execute_result"
    }
   ],
   "source": [
    "def convStr(a):\n",
    "    res = \"\"\n",
    "    for i in a:\n",
    "        res += str(i)\n",
    "    return res\n",
    "convStr((1,2,3))"
   ]
  },
  {
   "cell_type": "code",
   "execution_count": 72,
   "id": "720ce921-f268-4d8c-8676-6dd3bb39d3b7",
   "metadata": {},
   "outputs": [
    {
     "name": "stdout",
     "output_type": "stream",
     "text": [
      "(2, 3)\n"
     ]
    }
   ],
   "source": [
    "def repeatT(a):\n",
    "    for i in range(0, len(a)):\n",
    "        print(i in "
   ]
  },
  {
   "cell_type": "code",
   "execution_count": null,
   "id": "69685db1-5531-4193-a00b-31b01365a76d",
   "metadata": {},
   "outputs": [],
   "source": []
  }
 ],
 "metadata": {
  "kernelspec": {
   "display_name": "Python 3 (ipykernel)",
   "language": "python",
   "name": "python3"
  },
  "language_info": {
   "codemirror_mode": {
    "name": "ipython",
    "version": 3
   },
   "file_extension": ".py",
   "mimetype": "text/x-python",
   "name": "python",
   "nbconvert_exporter": "python",
   "pygments_lexer": "ipython3",
   "version": "3.11.6"
  }
 },
 "nbformat": 4,
 "nbformat_minor": 5
}
